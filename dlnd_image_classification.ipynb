{
 "cells": [
  {
   "cell_type": "markdown",
   "metadata": {
    "collapsed": true,
    "deletable": true,
    "editable": true
   },
   "source": [
    "# Image Classification\n",
    "In this project, you'll classify images from the [CIFAR-10 dataset](https://www.cs.toronto.edu/~kriz/cifar.html).  The dataset consists of airplanes, dogs, cats, and other objects. You'll preprocess the images, then train a convolutional neural network on all the samples. The images need to be normalized and the labels need to be one-hot encoded.  You'll get to apply what you learned and build a convolutional, max pooling, dropout, and fully connected layers.  At the end, you'll get to see your neural network's predictions on the sample images.\n",
    "## Get the Data\n",
    "Run the following cell to download the [CIFAR-10 dataset for python](https://www.cs.toronto.edu/~kriz/cifar-10-python.tar.gz)."
   ]
  },
  {
   "cell_type": "code",
   "execution_count": 1,
   "metadata": {
    "collapsed": false,
    "deletable": true,
    "editable": true
   },
   "outputs": [
    {
     "name": "stdout",
     "output_type": "stream",
     "text": [
      "All files found!\n"
     ]
    }
   ],
   "source": [
    "\"\"\"\n",
    "DON'T MODIFY ANYTHING IN THIS CELL THAT IS BELOW THIS LINE\n",
    "\"\"\"\n",
    "from urllib.request import urlretrieve\n",
    "from os.path import isfile, isdir\n",
    "from tqdm import tqdm\n",
    "import problem_unittests as tests\n",
    "import tarfile\n",
    "\n",
    "cifar10_dataset_folder_path = 'cifar-10-batches-py'\n",
    "\n",
    "class DLProgress(tqdm):\n",
    "    last_block = 0\n",
    "\n",
    "    def hook(self, block_num=1, block_size=1, total_size=None):\n",
    "        self.total = total_size\n",
    "        self.update((block_num - self.last_block) * block_size)\n",
    "        self.last_block = block_num\n",
    "\n",
    "if not isfile('cifar-10-python.tar.gz'):\n",
    "    with DLProgress(unit='B', unit_scale=True, miniters=1, desc='CIFAR-10 Dataset') as pbar:\n",
    "        urlretrieve(\n",
    "            'https://www.cs.toronto.edu/~kriz/cifar-10-python.tar.gz',\n",
    "            'cifar-10-python.tar.gz',\n",
    "            pbar.hook)\n",
    "\n",
    "if not isdir(cifar10_dataset_folder_path):\n",
    "    with tarfile.open('cifar-10-python.tar.gz') as tar:\n",
    "        tar.extractall()\n",
    "        tar.close()\n",
    "\n",
    "\n",
    "tests.test_folder_path(cifar10_dataset_folder_path)"
   ]
  },
  {
   "cell_type": "markdown",
   "metadata": {
    "deletable": true,
    "editable": true
   },
   "source": [
    "## Explore the Data\n",
    "The dataset is broken into batches to prevent your machine from running out of memory.  The CIFAR-10 dataset consists of 5 batches, named `data_batch_1`, `data_batch_2`, etc.. Each batch contains the labels and images that are one of the following:\n",
    "* airplane\n",
    "* automobile\n",
    "* bird\n",
    "* cat\n",
    "* deer\n",
    "* dog\n",
    "* frog\n",
    "* horse\n",
    "* ship\n",
    "* truck\n",
    "\n",
    "Understanding a dataset is part of making predictions on the data.  Play around with the code cell below by changing the `batch_id` and `sample_id`. The `batch_id` is the id for a batch (1-5). The `sample_id` is the id for a image and label pair in the batch.\n",
    "\n",
    "Ask yourself \"What are all possible labels?\", \"What is the range of values for the image data?\", \"Are the labels in order or random?\".  Answers to questions like these will help you preprocess the data and end up with better predictions."
   ]
  },
  {
   "cell_type": "code",
   "execution_count": 2,
   "metadata": {
    "collapsed": false,
    "deletable": true,
    "editable": true
   },
   "outputs": [
    {
     "name": "stdout",
     "output_type": "stream",
     "text": [
      "\n",
      "Stats of batch 1:\n",
      "Samples: 10000\n",
      "Label Counts: {0: 1005, 1: 974, 2: 1032, 3: 1016, 4: 999, 5: 937, 6: 1030, 7: 1001, 8: 1025, 9: 981}\n",
      "First 20 Labels: [6, 9, 9, 4, 1, 1, 2, 7, 8, 3, 4, 7, 7, 2, 9, 9, 9, 3, 2, 6]\n",
      "\n",
      "Example of Image 1:\n",
      "Image - Min Value: 5 Max Value: 254\n",
      "Image - Shape: (32, 32, 3)\n",
      "Label - Label Id: 9 Name: truck\n"
     ]
    },
    {
     "data": {
      "image/png": "[encoded data removed]",
      "text/plain": [
       "<matplotlib.figure.Figure at 0x7f39fb7c9e48>"
      ]
     },
     "metadata": {
      "image/png": {
       "height": 250,
       "width": 253
      }
     },
     "output_type": "display_data"
    }
   ],
   "source": [
    "%matplotlib inline\n",
    "%config InlineBackend.figure_format = 'retina'\n",
    "\n",
    "import helper\n",
    "import numpy as np\n",
    "\n",
    "# Explore the dataset\n",
    "batch_id = 1\n",
    "sample_id = 1\n",
    "helper.display_stats(cifar10_dataset_folder_path, batch_id, sample_id)"
   ]
  },
  {
   "cell_type": "markdown",
   "metadata": {
    "deletable": true,
    "editable": true
   },
   "source": [
    "## Implement Preprocess Functions\n",
    "### Normalize\n",
    "In the cell below, implement the `normalize` function to take in image data, `x`, and return it as a normalized Numpy array. The values should be in the range of 0 to 1, inclusive.  The return object should be the same shape as `x`."
   ]
  },
  {
   "cell_type": "code",
   "execution_count": 3,
   "metadata": {
    "collapsed": false,
    "deletable": true,
    "editable": true
   },
   "outputs": [
    {
     "name": "stdout",
     "output_type": "stream",
     "text": [
      "Tests Passed\n"
     ]
    }
   ],
   "source": [
    "def normalize(x):\n",
    "    \"\"\"\n",
    "    Normalize a list of sample image data in the range of 0 to 1\n",
    "    : x: List of image data.  The image shape is (32, 32, 3)\n",
    "    : return: Numpy array of normalize data\n",
    "    \"\"\"\n",
    "    # TODO: Implement Function\n",
    "    return x/255\n",
    "\n",
    "\n",
    "\"\"\"\n",
    "DON'T MODIFY ANYTHING IN THIS CELL THAT IS BELOW THIS LINE\n",
    "\"\"\"\n",
    "tests.test_normalize(normalize)"
   ]
  },
  {
   "cell_type": "markdown",
   "metadata": {
    "deletable": true,
    "editable": true
   },
   "source": [
    "### One-hot encode\n",
    "Just like the previous code cell, you'll be implementing a function for preprocessing.  This time, you'll implement the `one_hot_encode` function. The input, `x`, are a list of labels.  Implement the function to return the list of labels as One-Hot encoded Numpy array.  The possible values for labels are 0 to 9. The one-hot encoding function should return the same encoding for each value between each call to `one_hot_encode`.  Make sure to save the map of encodings outside the function.\n",
    "\n",
    "Hint: Don't reinvent the wheel."
   ]
  },
  {
   "cell_type": "code",
   "execution_count": 4,
   "metadata": {
    "collapsed": false,
    "deletable": true,
    "editable": true
   },
   "outputs": [
    {
     "name": "stdout",
     "output_type": "stream",
     "text": [
      "Tests Passed\n"
     ]
    }
   ],
   "source": [
    "from sklearn.preprocessing import LabelBinarizer\n",
    "encoder = LabelBinarizer()\n",
    "encoder.fit(range(10))\n",
    "\n",
    "def one_hot_encode(x):\n",
    "    \"\"\"\n",
    "    One hot encode a list of sample labels. Return a one-hot encoded vector for each label.\n",
    "    : x: List of sample Labels\n",
    "    : return: Numpy array of one-hot encoded labels\n",
    "    \"\"\"\n",
    "    # TODO: Implement Function\n",
    "    labels = encoder.transform(x)\n",
    "    return labels\n",
    "\n",
    "\n",
    "\"\"\"\n",
    "DON'T MODIFY ANYTHING IN THIS CELL THAT IS BELOW THIS LINE\n",
    "\"\"\"\n",
    "tests.test_one_hot_encode(one_hot_encode)"
   ]
  },
  {
   "cell_type": "markdown",
   "metadata": {
    "deletable": true,
    "editable": true
   },
   "source": [
    "### Randomize Data\n",
    "As you saw from exploring the data above, the order of the samples are randomized.  It doesn't hurt to randomize it again, but you don't need to for this dataset."
   ]
  },
  {
   "cell_type": "markdown",
   "metadata": {
    "deletable": true,
    "editable": true
   },
   "source": [
    "## Preprocess all the data and save it\n",
    "Running the code cell below will preprocess all the CIFAR-10 data and save it to file. The code below also uses 10% of the training data for validation."
   ]
  },
  {
   "cell_type": "code",
   "execution_count": 29,
   "metadata": {
    "collapsed": false,
    "deletable": true,
    "editable": true
   },
   "outputs": [],
   "source": [
    "\"\"\"\n",
    "DON'T MODIFY ANYTHING IN THIS CELL\n",
    "\"\"\"\n",
    "# Preprocess Training, Validation, and Testing Data\n",
    "helper.preprocess_and_save_data(cifar10_dataset_folder_path, normalize, one_hot_encode)"
   ]
  },
  {
   "cell_type": "markdown",
   "metadata": {
    "deletable": true,
    "editable": true
   },
   "source": [
    "# Check Point\n",
    "This is your first checkpoint.  If you ever decide to come back to this notebook or have to restart the notebook, you can start from here.  The preprocessed data has been saved to disk."
   ]
  },
  {
   "cell_type": "code",
   "execution_count": 6,
   "metadata": {
    "collapsed": true,
    "deletable": true,
    "editable": true
   },
   "outputs": [],
   "source": [
    "\"\"\"\n",
    "DON'T MODIFY ANYTHING IN THIS CELL\n",
    "\"\"\"\n",
    "import pickle\n",
    "import problem_unittests as tests\n",
    "import helper\n",
    "\n",
    "# Load the Preprocessed Validation data\n",
    "valid_features, valid_labels = pickle.load(open('preprocess_validation.p', mode='rb'))"
   ]
  },
  {
   "cell_type": "markdown",
   "metadata": {
    "deletable": true,
    "editable": true
   },
   "source": [
    "## Build the network\n",
    "For the neural network, you'll build each layer into a function.  Most of the code you've seen has been outside of functions. To test your code more thoroughly, we require that you put each layer in a function.  This allows us to give you better feedback and test for simple mistakes using our unittests before you submit your project.\n",
    "\n",
    ">**Note:** If you're finding it hard to dedicate enough time for this course each week, we've provided a small shortcut to this part of the project. In the next couple of problems, you'll have the option to use classes from the [TensorFlow Layers](https://www.tensorflow.org/api_docs/python/tf/layers) or [TensorFlow Layers (contrib)](https://www.tensorflow.org/api_guides/python/contrib.layers) packages to build each layer, except the layers you build in the \"Convolutional and Max Pooling Layer\" section.  TF Layers is similar to Keras's and TFLearn's abstraction to layers, so it's easy to pickup.\n",
    "\n",
    ">However, if you would like to get the most out of this course, try to solve all the problems _without_ using anything from the TF Layers packages. You **can** still use classes from other packages that happen to have the same name as ones you find in TF Layers! For example, instead of using the TF Layers version of the `conv2d` class, [tf.layers.conv2d](https://www.tensorflow.org/api_docs/python/tf/layers/conv2d), you would want to use the TF Neural Network version of `conv2d`, [tf.nn.conv2d](https://www.tensorflow.org/api_docs/python/tf/nn/conv2d). \n",
    "\n",
    "Let's begin!\n",
    "\n",
    "### Input\n",
    "The neural network needs to read the image data, one-hot encoded labels, and dropout keep probability. Implement the following functions\n",
    "* Implement `neural_net_image_input`\n",
    " * Return a [TF Placeholder](https://www.tensorflow.org/api_docs/python/tf/placeholder)\n",
    " * Set the shape using `image_shape` with batch size set to `None`.\n",
    " * Name the TensorFlow placeholder \"x\" using the TensorFlow `name` parameter in the [TF Placeholder](https://www.tensorflow.org/api_docs/python/tf/placeholder).\n",
    "* Implement `neural_net_label_input`\n",
    " * Return a [TF Placeholder](https://www.tensorflow.org/api_docs/python/tf/placeholder)\n",
    " * Set the shape using `n_classes` with batch size set to `None`.\n",
    " * Name the TensorFlow placeholder \"y\" using the TensorFlow `name` parameter in the [TF Placeholder](https://www.tensorflow.org/api_docs/python/tf/placeholder).\n",
    "* Implement `neural_net_keep_prob_input`\n",
    " * Return a [TF Placeholder](https://www.tensorflow.org/api_docs/python/tf/placeholder) for dropout keep probability.\n",
    " * Name the TensorFlow placeholder \"keep_prob\" using the TensorFlow `name` parameter in the [TF Placeholder](https://www.tensorflow.org/api_docs/python/tf/placeholder).\n",
    "\n",
    "These names will be used at the end of the project to load your saved model.\n",
    "\n",
    "Note: `None` for shapes in TensorFlow allow for a dynamic size."
   ]
  },
  {
   "cell_type": "code",
   "execution_count": 7,
   "metadata": {
    "collapsed": false,
    "deletable": true,
    "editable": true
   },
   "outputs": [
    {
     "name": "stdout",
     "output_type": "stream",
     "text": [
      "Image Input Tests Passed.\n",
      "Label Input Tests Passed.\n",
      "Keep Prob Tests Passed.\n"
     ]
    }
   ],
   "source": [
    "import tensorflow as tf\n",
    "\n",
    "def neural_net_image_input(image_shape):\n",
    "    \"\"\"\n",
    "    Return a Tensor for a bach of image input\n",
    "    : image_shape: Shape of the images\n",
    "    : return: Tensor for image input.\n",
    "    \"\"\"\n",
    "    # TODO: Implement Function\n",
    "    image_width, image_height, color_channels = image_shape\n",
    "    x = tf.placeholder(tf.float32, shape=[None, image_width, image_height, color_channels], name='x')\n",
    "    return x\n",
    "\n",
    "\n",
    "def neural_net_label_input(n_classes):\n",
    "    \"\"\"\n",
    "    Return a Tensor for a batch of label input\n",
    "    : n_classes: Number of classes\n",
    "    : return: Tensor for label input.\n",
    "    \"\"\"\n",
    "    # TODO: Implement Function\n",
    "    y = tf.placeholder(tf.float32, shape=[None, n_classes], name='y')\n",
    "    return y\n",
    "\n",
    "\n",
    "def neural_net_keep_prob_input():\n",
    "    \"\"\"\n",
    "    Return a Tensor for keep probability\n",
    "    : return: Tensor for keep probability.\n",
    "    \"\"\"\n",
    "    # TODO: Implement Function\n",
    "    keep_prob = tf.placeholder(tf.float32, name='keep_prob')\n",
    "    return keep_prob\n",
    "\n",
    "\n",
    "\"\"\"\n",
    "DON'T MODIFY ANYTHING IN THIS CELL THAT IS BELOW THIS LINE\n",
    "\"\"\"\n",
    "tf.reset_default_graph()\n",
    "tests.test_nn_image_inputs(neural_net_image_input)\n",
    "tests.test_nn_label_inputs(neural_net_label_input)\n",
    "tests.test_nn_keep_prob_inputs(neural_net_keep_prob_input)"
   ]
  },
  {
   "cell_type": "markdown",
   "metadata": {
    "deletable": true,
    "editable": true
   },
   "source": [
    "### Convolution and Max Pooling Layer\n",
    "Convolution layers have a lot of success with images. For this code cell, you should implement the function `conv2d_maxpool` to apply convolution then max pooling:\n",
    "* Create the weight and bias using `conv_ksize`, `conv_num_outputs` and the shape of `x_tensor`.\n",
    "* Apply a convolution to `x_tensor` using weight and `conv_strides`.\n",
    " * We recommend you use same padding, but you're welcome to use any padding.\n",
    "* Add bias\n",
    "* Add a nonlinear activation to the convolution.\n",
    "* Apply Max Pooling using `pool_ksize` and `pool_strides`.\n",
    " * We recommend you use same padding, but you're welcome to use any padding.\n",
    "\n",
    "**Note:** You **can't** use [TensorFlow Layers](https://www.tensorflow.org/api_docs/python/tf/layers) or [TensorFlow Layers (contrib)](https://www.tensorflow.org/api_guides/python/contrib.layers) for **this** layer, but you can still use TensorFlow's [Neural Network](https://www.tensorflow.org/api_docs/python/tf/nn) package. You may still use the shortcut option for all the **other** layers."
   ]
  },
  {
   "cell_type": "code",
   "execution_count": 8,
   "metadata": {
    "collapsed": false,
    "deletable": true,
    "editable": true
   },
   "outputs": [
    {
     "name": "stdout",
     "output_type": "stream",
     "text": [
      "Tests Passed\n"
     ]
    }
   ],
   "source": [
    "def conv2d_maxpool(x_tensor, conv_num_outputs, conv_ksize, conv_strides, pool_ksize, pool_strides):\n",
    "    \"\"\"\n",
    "    Apply convolution then max pooling to x_tensor\n",
    "    :param x_tensor: TensorFlow Tensor\n",
    "    :param conv_num_outputs: Number of outputs for the convolutional layer\n",
    "    :param conv_ksize: kernal size 2-D Tuple for the convolutional layer\n",
    "    :param conv_strides: Stride 2-D Tuple for convolution\n",
    "    :param pool_ksize: kernal size 2-D Tuple for pool\n",
    "    :param pool_strides: Stride 2-D Tuple for pool\n",
    "    : return: A tensor that represents convolution and max pooling of x_tensor\n",
    "    \"\"\"\n",
    "    # TODO: Implement Function\n",
    "    filter_size_width, filter_size_height = conv_ksize\n",
    "    color_channels = x_tensor.shape.as_list()[-1]\n",
    "    weight = tf.Variable(tf.truncated_normal(\n",
    "        [filter_size_width, filter_size_height, color_channels, conv_num_outputs], stddev=0.01))\n",
    "    bias = tf.Variable(tf.zeros(conv_num_outputs))\n",
    "   \n",
    "    # set the strides \n",
    "    a, b = conv_strides\n",
    "    full_conv_strides = [1, a, b, 1]\n",
    "    conv_layer = tf.nn.conv2d(x_tensor, weight, strides=full_conv_strides, padding='SAME')\n",
    "\n",
    "    # Add bias\n",
    "    conv_layer = tf.nn.bias_add(conv_layer, bias)\n",
    "    \n",
    "    # Apply activation function\n",
    "    conv_layer = tf.nn.relu(conv_layer)\n",
    "    \n",
    "    # Max Pooling on the strides \n",
    "    a, b = pool_strides\n",
    "    full_pool_strides = [1, a, b, 1]\n",
    "    a, b = pool_ksize\n",
    "    full_pool_ksize = [1, a, b, 1]\n",
    "    conv_layer = tf.nn.max_pool(\n",
    "        conv_layer,\n",
    "        ksize=full_pool_ksize,\n",
    "        strides=full_pool_strides,\n",
    "        padding='SAME')\n",
    "    return conv_layer \n",
    "\n",
    "\n",
    "\"\"\"\n",
    "DON'T MODIFY ANYTHING IN THIS CELL THAT IS BELOW THIS LINE\n",
    "\"\"\"\n",
    "tests.test_con_pool(conv2d_maxpool)"
   ]
  },
  {
   "cell_type": "markdown",
   "metadata": {
    "deletable": true,
    "editable": true
   },
   "source": [
    "### Flatten Layer\n",
    "Implement the `flatten` function to change the dimension of `x_tensor` from a 4-D tensor to a 2-D tensor.  The output should be the shape (*Batch Size*, *Flattened Image Size*). Shortcut option: you can use classes from the [TensorFlow Layers](https://www.tensorflow.org/api_docs/python/tf/layers) or [TensorFlow Layers (contrib)](https://www.tensorflow.org/api_guides/python/contrib.layers) packages for this layer. For more of a challenge, only use other TensorFlow packages."
   ]
  },
  {
   "cell_type": "code",
   "execution_count": 9,
   "metadata": {
    "collapsed": false,
    "deletable": true,
    "editable": true
   },
   "outputs": [
    {
     "name": "stdout",
     "output_type": "stream",
     "text": [
      "Tests Passed\n"
     ]
    }
   ],
   "source": [
    "def flatten(x_tensor):\n",
    "    \"\"\"\n",
    "    Flatten x_tensor to (Batch Size, Flattened Image Size)\n",
    "    : x_tensor: A tensor of size (Batch Size, ...), where ... are the image dimensions.\n",
    "    : return: A tensor of size (Batch Size, Flattened Image Size).\n",
    "    \"\"\"\n",
    "    # TODO: Implement Function\n",
    "    shape = x_tensor.shape.as_list()\n",
    "\n",
    "    # reshape \n",
    "    new_shape = np.prod(shape[1:])\n",
    "    flat = tf.reshape(x_tensor, [-1, new_shape])\n",
    "    return flat\n",
    "\n",
    "\n",
    "\"\"\"\n",
    "DON'T MODIFY ANYTHING IN THIS CELL THAT IS BELOW THIS LINE\n",
    "\"\"\"\n",
    "tests.test_flatten(flatten)"
   ]
  },
  {
   "cell_type": "markdown",
   "metadata": {
    "deletable": true,
    "editable": true
   },
   "source": [
    "### Fully-Connected Layer\n",
    "Implement the `fully_conn` function to apply a fully connected layer to `x_tensor` with the shape (*Batch Size*, *num_outputs*). Shortcut option: you can use classes from the [TensorFlow Layers](https://www.tensorflow.org/api_docs/python/tf/layers) or [TensorFlow Layers (contrib)](https://www.tensorflow.org/api_guides/python/contrib.layers) packages for this layer. For more of a challenge, only use other TensorFlow packages."
   ]
  },
  {
   "cell_type": "code",
   "execution_count": 10,
   "metadata": {
    "collapsed": false,
    "deletable": true,
    "editable": true
   },
   "outputs": [
    {
     "name": "stdout",
     "output_type": "stream",
     "text": [
      "Tests Passed\n"
     ]
    }
   ],
   "source": [
    "def fully_conn(x_tensor, num_outputs):\n",
    "    \"\"\"\n",
    "    Apply a fully connected layer to x_tensor using weight and bias\n",
    "    : x_tensor: A 2-D tensor where the first dimension is batch size.\n",
    "    : num_outputs: The number of output that the new tensor should be.\n",
    "    : return: A 2-D tensor where the second dimension is num_outputs.\n",
    "    \"\"\"\n",
    "    # TODO: Implement Function\n",
    "    weight = tf.Variable(tf.truncated_normal(\n",
    "        [x_tensor.get_shape().as_list()[-1] ,num_outputs], stddev=0.01))\n",
    "    bias = tf.Variable(tf.zeros(num_outputs))\n",
    "    fc = tf.add(tf.matmul(x_tensor, weight), bias)\n",
    "    fc = tf.nn.relu(fc)\n",
    "    return fc\n",
    "\n",
    "\n",
    "\"\"\"\n",
    "DON'T MODIFY ANYTHING IN THIS CELL THAT IS BELOW THIS LINE\n",
    "\"\"\"\n",
    "tests.test_fully_conn(fully_conn)"
   ]
  },
  {
   "cell_type": "markdown",
   "metadata": {
    "deletable": true,
    "editable": true
   },
   "source": [
    "### Output Layer\n",
    "Implement the `output` function to apply a fully connected layer to `x_tensor` with the shape (*Batch Size*, *num_outputs*). Shortcut option: you can use classes from the [TensorFlow Layers](https://www.tensorflow.org/api_docs/python/tf/layers) or [TensorFlow Layers (contrib)](https://www.tensorflow.org/api_guides/python/contrib.layers) packages for this layer. For more of a challenge, only use other TensorFlow packages.\n",
    "\n",
    "**Note:** Activation, softmax, or cross entropy should **not** be applied to this."
   ]
  },
  {
   "cell_type": "code",
   "execution_count": 11,
   "metadata": {
    "collapsed": false,
    "deletable": true,
    "editable": true
   },
   "outputs": [
    {
     "name": "stdout",
     "output_type": "stream",
     "text": [
      "Tests Passed\n"
     ]
    }
   ],
   "source": [
    "def output(x_tensor, num_outputs):\n",
    "    \"\"\"\n",
    "    Apply a output layer to x_tensor using weight and bias\n",
    "    : x_tensor: A 2-D tensor where the first dimension is batch size.\n",
    "    : num_outputs: The number of output that the new tensor should be.\n",
    "    : return: A 2-D tensor where the second dimension is num_outputs.\n",
    "    \"\"\"\n",
    "    # TODO: Implement Function\n",
    "    weight = tf.Variable(tf.truncated_normal(\n",
    "        [x_tensor.get_shape().as_list()[-1] , num_outputs], stddev=0.01))\n",
    "    bias = tf.Variable(tf.zeros(num_outputs))\n",
    "    out = tf.add(tf.matmul(x_tensor, weight), bias)\n",
    "    return out\n",
    "\n",
    "\n",
    "\"\"\"\n",
    "DON'T MODIFY ANYTHING IN THIS CELL THAT IS BELOW THIS LINE\n",
    "\"\"\"\n",
    "tests.test_output(output)"
   ]
  },
  {
   "cell_type": "markdown",
   "metadata": {
    "deletable": true,
    "editable": true
   },
   "source": [
    "### Create Convolutional Model\n",
    "Implement the function `conv_net` to create a convolutional neural network model. The function takes in a batch of images, `x`, and outputs logits.  Use the layers you created above to create this model:\n",
    "\n",
    "* Apply 1, 2, or 3 Convolution and Max Pool layers\n",
    "* Apply a Flatten Layer\n",
    "* Apply 1, 2, or 3 Fully Connected Layers\n",
    "* Apply an Output Layer\n",
    "* Return the output\n",
    "* Apply [TensorFlow's Dropout](https://www.tensorflow.org/api_docs/python/tf/nn/dropout) to one or more layers in the model using `keep_prob`. "
   ]
  },
  {
   "cell_type": "code",
   "execution_count": 23,
   "metadata": {
    "collapsed": false,
    "deletable": true,
    "editable": true
   },
   "outputs": [
    {
     "name": "stdout",
     "output_type": "stream",
     "text": [
      "Neural Network Built!\n"
     ]
    }
   ],
   "source": [
    "def conv_net(x, keep_prob):\n",
    "    \"\"\"\n",
    "    Create a convolutional neural network model\n",
    "    : x: Placeholder tensor that holds image data.\n",
    "    : keep_prob: Placeholder tensor that hold dropout keep probability.\n",
    "    : return: Tensor that represents logits\n",
    "    \"\"\"\n",
    "    # TODO: Apply 1, 2, or 3 Convolution and Max Pool layers\n",
    "    #    Play around with different number of outputs, kernel size and stride\n",
    "    # Function Definition from Above:\n",
    "    conv_num_outputs = 32\n",
    "    conv_ksize = (5,5)\n",
    "    conv_strides = (1,1)\n",
    "    pool_ksize = (2,2)\n",
    "    pool_strides = (2,2)\n",
    "    logits = conv2d_maxpool(x, conv_num_outputs, conv_ksize, conv_strides, pool_ksize, pool_strides)\n",
    "    \n",
    "    conv_num_outputs = 64\n",
    "    conv_ksize = (5,5)\n",
    "    conv_strides = (1,1)\n",
    "    pool_ksize = (2,2)\n",
    "    pool_strides = (2,2)\n",
    "    logits = conv2d_maxpool(logits, conv_num_outputs, conv_ksize, conv_strides, pool_ksize, pool_strides)\n",
    "\n",
    "    conv_num_outputs = 128\n",
    "    conv_ksize = (5,5)\n",
    "    conv_strides = (1,1)\n",
    "    pool_ksize = (2,2)\n",
    "    pool_strides = (2,2)\n",
    "    logits = conv2d_maxpool(logits, conv_num_outputs, conv_ksize, conv_strides, pool_ksize, pool_strides)\n",
    "\n",
    "    tf.nn.dropout(logits, keep_prob)\n",
    "    \n",
    "\n",
    "    # TODO: Apply a Flatten Layer\n",
    "    # Function Definition from Above:\n",
    "    logits = flatten(logits)\n",
    "    \n",
    "    num_outputs = 128\n",
    "    logits = fully_conn(logits, num_outputs)\n",
    "    \n",
    "    num_outputs = 128\n",
    "    logits = fully_conn(logits, num_outputs)\n",
    "    \n",
    "    num_outputs = 64\n",
    "    logits = fully_conn(logits, num_outputs)\n",
    "    \n",
    "    # TODO: Apply an Output Layer\n",
    "    num_outputs = 10\n",
    "    logits = output(logits, num_outputs)\n",
    "    \n",
    "    # TODO: return output\n",
    "    return logits\n",
    "\n",
    "\"\"\"\n",
    "DON'T MODIFY ANYTHING IN THIS CELL THAT IS BELOW THIS LINE\n",
    "\"\"\"\n",
    "\n",
    "##############################\n",
    "## Build the Neural Network ##\n",
    "##############################\n",
    "\n",
    "# Remove previous weights, bias, inputs, etc..\n",
    "tf.reset_default_graph()\n",
    "\n",
    "# Inputs\n",
    "x = neural_net_image_input((32, 32, 3))\n",
    "y = neural_net_label_input(10)\n",
    "keep_prob = neural_net_keep_prob_input()\n",
    "\n",
    "# Model\n",
    "logits = conv_net(x, keep_prob)\n",
    "\n",
    "# Name logits Tensor, so that is can be loaded from disk after training\n",
    "logits = tf.identity(logits, name='logits')\n",
    "\n",
    "# Loss and Optimizer\n",
    "cost = tf.reduce_mean(tf.nn.softmax_cross_entropy_with_logits(logits=logits, labels=y))\n",
    "optimizer = tf.train.AdamOptimizer().minimize(cost)\n",
    "\n",
    "# Accuracy\n",
    "correct_pred = tf.equal(tf.argmax(logits, 1), tf.argmax(y, 1))\n",
    "accuracy = tf.reduce_mean(tf.cast(correct_pred, tf.float32), name='accuracy')\n",
    "\n",
    "tests.test_conv_net(conv_net)"
   ]
  },
  {
   "cell_type": "markdown",
   "metadata": {
    "deletable": true,
    "editable": true
   },
   "source": [
    "## Train the Neural Network\n",
    "### Single Optimization\n",
    "Implement the function `train_neural_network` to do a single optimization.  The optimization should use `optimizer` to optimize in `session` with a `feed_dict` of the following:\n",
    "* `x` for image input\n",
    "* `y` for labels\n",
    "* `keep_prob` for keep probability for dropout\n",
    "\n",
    "This function will be called for each batch, so `tf.global_variables_initializer()` has already been called.\n",
    "\n",
    "Note: Nothing needs to be returned. This function is only optimizing the neural network."
   ]
  },
  {
   "cell_type": "code",
   "execution_count": 24,
   "metadata": {
    "collapsed": false,
    "deletable": true,
    "editable": true
   },
   "outputs": [
    {
     "name": "stdout",
     "output_type": "stream",
     "text": [
      "Tests Passed\n"
     ]
    }
   ],
   "source": [
    "def train_neural_network(session, optimizer, keep_probability, feature_batch, label_batch):\n",
    "    \"\"\"\n",
    "    Optimize the session on a batch of images and labels\n",
    "    : session: Current TensorFlow session\n",
    "    : optimizer: TensorFlow optimizer function\n",
    "    : keep_probability: keep probability\n",
    "    : feature_batch: Batch of Numpy image data\n",
    "    : label_batch: Batch of Numpy label data\n",
    "    \"\"\"\n",
    "    # TODO: Implement Function\n",
    "    session.run(optimizer, feed_dict={\n",
    "                x: feature_batch,\n",
    "                y: label_batch,\n",
    "                keep_prob: keep_probability})\n",
    "    \n",
    "\n",
    "\"\"\"\n",
    "DON'T MODIFY ANYTHING IN THIS CELL THAT IS BELOW THIS LINE\n",
    "\"\"\"\n",
    "tests.test_train_nn(train_neural_network)"
   ]
  },
  {
   "cell_type": "markdown",
   "metadata": {
    "deletable": true,
    "editable": true
   },
   "source": [
    "### Show Stats\n",
    "Implement the function `print_stats` to print loss and validation accuracy.  Use the global variables `valid_features` and `valid_labels` to calculate validation accuracy.  Use a keep probability of `1.0` to calculate the loss and validation accuracy."
   ]
  },
  {
   "cell_type": "code",
   "execution_count": 25,
   "metadata": {
    "collapsed": false,
    "deletable": true,
    "editable": true
   },
   "outputs": [],
   "source": [
    "def print_stats(session, feature_batch, label_batch, cost, accuracy):\n",
    "    \"\"\"\n",
    "    Print information about loss and validation accuracy\n",
    "    : session: Current TensorFlow session\n",
    "    : feature_batch: Batch of Numpy image data\n",
    "    : label_batch: Batch of Numpy label data\n",
    "    : cost: TensorFlow cost function\n",
    "    : accuracy: TensorFlow accuracy function\n",
    "    \"\"\"\n",
    "    # TODO: Implement Function\n",
    "    validation_loss = sess.run(cost, feed_dict={\n",
    "        x: valid_features,\n",
    "        y: valid_labels,\n",
    "        keep_prob: 1})\n",
    "    validation_accuracy = sess.run(accuracy, feed_dict={\n",
    "        x: valid_features,\n",
    "        y: valid_labels,\n",
    "        keep_prob: 1})\n",
    "    print(\"[Validation] - Loss: {}, Accuracy: {}\".format(validation_loss, validation_accuracy))"
   ]
  },
  {
   "cell_type": "markdown",
   "metadata": {
    "deletable": true,
    "editable": true
   },
   "source": [
    "### Hyperparameters\n",
    "Tune the following parameters:\n",
    "* Set `epochs` to the number of iterations until the network stops learning or start overfitting\n",
    "* Set `batch_size` to the highest number that your machine has memory for.  Most people set them to common sizes of memory:\n",
    " * 64\n",
    " * 128\n",
    " * 256\n",
    " * ...\n",
    "* Set `keep_probability` to the probability of keeping a node using dropout"
   ]
  },
  {
   "cell_type": "code",
   "execution_count": 26,
   "metadata": {
    "collapsed": true,
    "deletable": true,
    "editable": true
   },
   "outputs": [],
   "source": [
    "# TODO: Tune Parameters\n",
    "epochs = 20\n",
    "batch_size = 128\n",
    "keep_probability = 0.5"
   ]
  },
  {
   "cell_type": "markdown",
   "metadata": {
    "deletable": true,
    "editable": true
   },
   "source": [
    "### Train on a Single CIFAR-10 Batch\n",
    "Instead of training the neural network on all the CIFAR-10 batches of data, let's use a single batch. This should save time while you iterate on the model to get a better accuracy.  Once the final validation accuracy is 50% or greater, run the model on all the data in the next section."
   ]
  },
  {
   "cell_type": "code",
   "execution_count": 27,
   "metadata": {
    "collapsed": false,
    "deletable": true,
    "editable": true
   },
   "outputs": [
    {
     "name": "stdout",
     "output_type": "stream",
     "text": [
      "Checking the Training on a Single Batch...\n",
      "Epoch  1, CIFAR-10 Batch 1:  [Validation] - Loss: 2.2170519828796387, Accuracy: 0.16779999434947968\n",
      "Epoch  2, CIFAR-10 Batch 1:  [Validation] - Loss: 2.089951753616333, Accuracy: 0.19859996438026428\n",
      "Epoch  3, CIFAR-10 Batch 1:  [Validation] - Loss: 2.110560417175293, Accuracy: 0.17959998548030853\n",
      "Epoch  4, CIFAR-10 Batch 1:  [Validation] - Loss: 1.9675071239471436, Accuracy: 0.20919997990131378\n",
      "Epoch  5, CIFAR-10 Batch 1:  [Validation] - Loss: 1.8787364959716797, Accuracy: 0.2818000018596649\n",
      "Epoch  6, CIFAR-10 Batch 1:  [Validation] - Loss: 1.778159499168396, Accuracy: 0.3046000003814697\n",
      "Epoch  7, CIFAR-10 Batch 1:  [Validation] - Loss: 1.7194786071777344, Accuracy: 0.33959996700286865\n",
      "Epoch  8, CIFAR-10 Batch 1:  [Validation] - Loss: 1.671705722808838, Accuracy: 0.36379995942115784\n",
      "Epoch  9, CIFAR-10 Batch 1:  [Validation] - Loss: 1.6193264722824097, Accuracy: 0.38600000739097595\n",
      "Epoch 10, CIFAR-10 Batch 1:  [Validation] - Loss: 1.5376577377319336, Accuracy: 0.4253999590873718\n",
      "Epoch 11, CIFAR-10 Batch 1:  [Validation] - Loss: 1.481910228729248, Accuracy: 0.4421999752521515\n",
      "Epoch 12, CIFAR-10 Batch 1:  [Validation] - Loss: 1.4559919834136963, Accuracy: 0.4569999575614929\n",
      "Epoch 13, CIFAR-10 Batch 1:  [Validation] - Loss: 1.4394409656524658, Accuracy: 0.47079998254776\n",
      "Epoch 14, CIFAR-10 Batch 1:  [Validation] - Loss: 1.4141888618469238, Accuracy: 0.4851999282836914\n",
      "Epoch 15, CIFAR-10 Batch 1:  [Validation] - Loss: 1.4301830530166626, Accuracy: 0.4837999939918518\n",
      "Epoch 16, CIFAR-10 Batch 1:  [Validation] - Loss: 1.3892959356307983, Accuracy: 0.5031999349594116\n",
      "Epoch 17, CIFAR-10 Batch 1:  [Validation] - Loss: 1.3860681056976318, Accuracy: 0.5061999559402466\n",
      "Epoch 18, CIFAR-10 Batch 1:  [Validation] - Loss: 1.4043869972229004, Accuracy: 0.5133999586105347\n",
      "Epoch 19, CIFAR-10 Batch 1:  [Validation] - Loss: 1.4652035236358643, Accuracy: 0.5037999153137207\n",
      "Epoch 20, CIFAR-10 Batch 1:  [Validation] - Loss: 1.4845792055130005, Accuracy: 0.4899999797344208\n"
     ]
    }
   ],
   "source": [
    "\"\"\"\n",
    "DON'T MODIFY ANYTHING IN THIS CELL\n",
    "\"\"\"\n",
    "print('Checking the Training on a Single Batch...')\n",
    "with tf.Session() as sess:\n",
    "    # Initializing the variables\n",
    "    sess.run(tf.global_variables_initializer())\n",
    "    \n",
    "    # Training cycle\n",
    "    for epoch in range(epochs):\n",
    "        batch_i = 1\n",
    "        for batch_features, batch_labels in helper.load_preprocess_training_batch(batch_i, batch_size):\n",
    "            train_neural_network(sess, optimizer, keep_probability, batch_features, batch_labels)\n",
    "        print('Epoch {:>2}, CIFAR-10 Batch {}:  '.format(epoch + 1, batch_i), end='')\n",
    "        print_stats(sess, batch_features, batch_labels, cost, accuracy)"
   ]
  },
  {
   "cell_type": "markdown",
   "metadata": {
    "deletable": true,
    "editable": true
   },
   "source": [
    "### Fully Train the Model\n",
    "Now that you got a good accuracy with a single CIFAR-10 batch, try it with all five batches."
   ]
  },
  {
   "cell_type": "code",
   "execution_count": 28,
   "metadata": {
    "collapsed": false,
    "deletable": true,
    "editable": true
   },
   "outputs": [
    {
     "name": "stdout",
     "output_type": "stream",
     "text": [
      "Training...\n",
      "Epoch  1, CIFAR-10 Batch 1:  [Validation] - Loss: 2.206906795501709, Accuracy: 0.15539997816085815\n",
      "Epoch  1, CIFAR-10 Batch 2:  [Validation] - Loss: 2.135453224182129, Accuracy: 0.1647999882698059\n",
      "Epoch  1, CIFAR-10 Batch 3:  [Validation] - Loss: 1.9956507682800293, Accuracy: 0.21239998936653137\n",
      "Epoch  1, CIFAR-10 Batch 4:  [Validation] - Loss: 1.9449231624603271, Accuracy: 0.21439999341964722\n",
      "Epoch  1, CIFAR-10 Batch 5:  [Validation] - Loss: 1.9132598638534546, Accuracy: 0.21799999475479126\n",
      "Epoch  2, CIFAR-10 Batch 1:  [Validation] - Loss: 1.8562653064727783, Accuracy: 0.2574000060558319\n",
      "Epoch  2, CIFAR-10 Batch 2:  [Validation] - Loss: 1.8215904235839844, Accuracy: 0.26020002365112305\n",
      "Epoch  2, CIFAR-10 Batch 3:  [Validation] - Loss: 1.8011338710784912, Accuracy: 0.274399995803833\n",
      "Epoch  2, CIFAR-10 Batch 4:  [Validation] - Loss: 1.720223307609558, Accuracy: 0.32019996643066406\n",
      "Epoch  2, CIFAR-10 Batch 5:  [Validation] - Loss: 1.690321922302246, Accuracy: 0.3384000062942505\n",
      "Epoch  3, CIFAR-10 Batch 1:  [Validation] - Loss: 1.6094332933425903, Accuracy: 0.3901999592781067\n",
      "Epoch  3, CIFAR-10 Batch 2:  [Validation] - Loss: 1.612744688987732, Accuracy: 0.38120001554489136\n",
      "Epoch  3, CIFAR-10 Batch 3:  [Validation] - Loss: 1.5539921522140503, Accuracy: 0.4163999557495117\n",
      "Epoch  3, CIFAR-10 Batch 4:  [Validation] - Loss: 1.4937763214111328, Accuracy: 0.4421999454498291\n",
      "Epoch  3, CIFAR-10 Batch 5:  [Validation] - Loss: 1.4287910461425781, Accuracy: 0.4675999581813812\n",
      "Epoch  4, CIFAR-10 Batch 1:  [Validation] - Loss: 1.4238237142562866, Accuracy: 0.47279998660087585\n",
      "Epoch  4, CIFAR-10 Batch 2:  [Validation] - Loss: 1.424090027809143, Accuracy: 0.4813999831676483\n",
      "Epoch  4, CIFAR-10 Batch 3:  [Validation] - Loss: 1.3672294616699219, Accuracy: 0.4901999533176422\n",
      "Epoch  4, CIFAR-10 Batch 4:  [Validation] - Loss: 1.352471113204956, Accuracy: 0.50819993019104\n",
      "Epoch  4, CIFAR-10 Batch 5:  [Validation] - Loss: 1.3043537139892578, Accuracy: 0.5225999355316162\n",
      "Epoch  5, CIFAR-10 Batch 1:  [Validation] - Loss: 1.2880553007125854, Accuracy: 0.5285999774932861\n",
      "Epoch  5, CIFAR-10 Batch 2:  [Validation] - Loss: 1.2634450197219849, Accuracy: 0.543199896812439\n",
      "Epoch  5, CIFAR-10 Batch 3:  [Validation] - Loss: 1.2560192346572876, Accuracy: 0.5305999517440796\n",
      "Epoch  5, CIFAR-10 Batch 4:  [Validation] - Loss: 1.2236205339431763, Accuracy: 0.555199921131134\n",
      "Epoch  5, CIFAR-10 Batch 5:  [Validation] - Loss: 1.1871129274368286, Accuracy: 0.5627999305725098\n",
      "Epoch  6, CIFAR-10 Batch 1:  [Validation] - Loss: 1.1789402961730957, Accuracy: 0.5773999094963074\n",
      "Epoch  6, CIFAR-10 Batch 2:  [Validation] - Loss: 1.1883264780044556, Accuracy: 0.5715999007225037\n",
      "Epoch  6, CIFAR-10 Batch 3:  [Validation] - Loss: 1.174006462097168, Accuracy: 0.5735999345779419\n",
      "Epoch  6, CIFAR-10 Batch 4:  [Validation] - Loss: 1.1177724599838257, Accuracy: 0.598599910736084\n",
      "Epoch  6, CIFAR-10 Batch 5:  [Validation] - Loss: 1.113314151763916, Accuracy: 0.6011999249458313\n",
      "Epoch  7, CIFAR-10 Batch 1:  [Validation] - Loss: 1.113882303237915, Accuracy: 0.6083999276161194\n",
      "Epoch  7, CIFAR-10 Batch 2:  [Validation] - Loss: 1.156038522720337, Accuracy: 0.5897999405860901\n",
      "Epoch  7, CIFAR-10 Batch 3:  [Validation] - Loss: 1.0824098587036133, Accuracy: 0.6119998693466187\n",
      "Epoch  7, CIFAR-10 Batch 4:  [Validation] - Loss: 1.0469310283660889, Accuracy: 0.6273999214172363\n",
      "Epoch  7, CIFAR-10 Batch 5:  [Validation] - Loss: 1.0617761611938477, Accuracy: 0.6221998929977417\n",
      "Epoch  8, CIFAR-10 Batch 1:  [Validation] - Loss: 1.0605829954147339, Accuracy: 0.6327998638153076\n",
      "Epoch  8, CIFAR-10 Batch 2:  [Validation] - Loss: 1.1180862188339233, Accuracy: 0.6055998802185059\n",
      "Epoch  8, CIFAR-10 Batch 3:  [Validation] - Loss: 1.0191103219985962, Accuracy: 0.6419999003410339\n",
      "Epoch  8, CIFAR-10 Batch 4:  [Validation] - Loss: 1.030036211013794, Accuracy: 0.6369999051094055\n",
      "Epoch  8, CIFAR-10 Batch 5:  [Validation] - Loss: 1.022578477859497, Accuracy: 0.6419999599456787\n",
      "Epoch  9, CIFAR-10 Batch 1:  [Validation] - Loss: 0.9985816478729248, Accuracy: 0.6567999124526978\n",
      "Epoch  9, CIFAR-10 Batch 2:  [Validation] - Loss: 1.0463460683822632, Accuracy: 0.6419998407363892\n",
      "Epoch  9, CIFAR-10 Batch 3:  [Validation] - Loss: 0.9977941513061523, Accuracy: 0.657599925994873\n",
      "Epoch  9, CIFAR-10 Batch 4:  [Validation] - Loss: 1.0024135112762451, Accuracy: 0.6499999165534973\n",
      "Epoch  9, CIFAR-10 Batch 5:  [Validation] - Loss: 0.9558408260345459, Accuracy: 0.6677998900413513\n",
      "Epoch 10, CIFAR-10 Batch 1:  [Validation] - Loss: 1.0525444746017456, Accuracy: 0.6499998569488525\n",
      "Epoch 10, CIFAR-10 Batch 2:  [Validation] - Loss: 1.055022954940796, Accuracy: 0.6391999125480652\n",
      "Epoch 10, CIFAR-10 Batch 3:  [Validation] - Loss: 1.0677798986434937, Accuracy: 0.645599901676178\n",
      "Epoch 10, CIFAR-10 Batch 4:  [Validation] - Loss: 0.97819983959198, Accuracy: 0.663399875164032\n",
      "Epoch 10, CIFAR-10 Batch 5:  [Validation] - Loss: 0.9470977783203125, Accuracy: 0.6797999143600464\n",
      "Epoch 11, CIFAR-10 Batch 1:  [Validation] - Loss: 1.0571233034133911, Accuracy: 0.6529998779296875\n",
      "Epoch 11, CIFAR-10 Batch 2:  [Validation] - Loss: 1.1080571413040161, Accuracy: 0.6383998990058899\n",
      "Epoch 11, CIFAR-10 Batch 3:  [Validation] - Loss: 1.0301638841629028, Accuracy: 0.6635998487472534\n",
      "Epoch 11, CIFAR-10 Batch 4:  [Validation] - Loss: 1.0337101221084595, Accuracy: 0.6563998460769653\n",
      "Epoch 11, CIFAR-10 Batch 5:  [Validation] - Loss: 1.0428839921951294, Accuracy: 0.6599998474121094\n",
      "Epoch 12, CIFAR-10 Batch 1:  [Validation] - Loss: 1.014461636543274, Accuracy: 0.6791998744010925\n",
      "Epoch 12, CIFAR-10 Batch 2:  [Validation] - Loss: 1.0759514570236206, Accuracy: 0.660399854183197\n",
      "Epoch 12, CIFAR-10 Batch 3:  [Validation] - Loss: 0.9997506737709045, Accuracy: 0.6779998540878296\n",
      "Epoch 12, CIFAR-10 Batch 4:  [Validation] - Loss: 1.0396578311920166, Accuracy: 0.6725998520851135\n",
      "Epoch 12, CIFAR-10 Batch 5:  [Validation] - Loss: 1.0542705059051514, Accuracy: 0.6627998352050781\n",
      "Epoch 13, CIFAR-10 Batch 1:  [Validation] - Loss: 1.130172610282898, Accuracy: 0.6593998670578003\n",
      "Epoch 13, CIFAR-10 Batch 2:  [Validation] - Loss: 1.0867435932159424, Accuracy: 0.6613999605178833\n",
      "Epoch 13, CIFAR-10 Batch 3:  [Validation] - Loss: 1.033341646194458, Accuracy: 0.6749998927116394\n",
      "Epoch 13, CIFAR-10 Batch 4:  [Validation] - Loss: 1.0380010604858398, Accuracy: 0.6795998811721802\n",
      "Epoch 13, CIFAR-10 Batch 5:  [Validation] - Loss: 1.0969176292419434, Accuracy: 0.6599999070167542\n",
      "Epoch 14, CIFAR-10 Batch 1:  [Validation] - Loss: 1.1430671215057373, Accuracy: 0.6701998710632324\n",
      "Epoch 14, CIFAR-10 Batch 2:  [Validation] - Loss: 1.0935354232788086, Accuracy: 0.6649998426437378\n",
      "Epoch 14, CIFAR-10 Batch 3:  [Validation] - Loss: 1.0603218078613281, Accuracy: 0.6737998723983765\n",
      "Epoch 14, CIFAR-10 Batch 4:  [Validation] - Loss: 1.0878181457519531, Accuracy: 0.6677999496459961\n",
      "Epoch 14, CIFAR-10 Batch 5:  [Validation] - Loss: 1.1414012908935547, Accuracy: 0.6453998684883118\n",
      "Epoch 15, CIFAR-10 Batch 1:  [Validation] - Loss: 1.1412619352340698, Accuracy: 0.6697999238967896\n",
      "Epoch 15, CIFAR-10 Batch 2:  [Validation] - Loss: 1.1556158065795898, Accuracy: 0.6583999395370483\n",
      "Epoch 15, CIFAR-10 Batch 3:  [Validation] - Loss: 1.1304497718811035, Accuracy: 0.6645998954772949\n",
      "Epoch 15, CIFAR-10 Batch 4:  [Validation] - Loss: 1.0347145795822144, Accuracy: 0.6867998242378235\n",
      "Epoch 15, CIFAR-10 Batch 5:  [Validation] - Loss: 1.1433979272842407, Accuracy: 0.6679998636245728\n",
      "Epoch 16, CIFAR-10 Batch 1:  [Validation] - Loss: 1.1880383491516113, Accuracy: 0.6693999171257019\n",
      "Epoch 16, CIFAR-10 Batch 2:  [Validation] - Loss: 1.2437744140625, Accuracy: 0.6547998785972595\n",
      "Epoch 16, CIFAR-10 Batch 3:  [Validation] - Loss: 1.186899185180664, Accuracy: 0.6643998622894287\n",
      "Epoch 16, CIFAR-10 Batch 4:  [Validation] - Loss: 1.141839623451233, Accuracy: 0.6731998920440674\n",
      "Epoch 16, CIFAR-10 Batch 5:  [Validation] - Loss: 1.3036837577819824, Accuracy: 0.6457999348640442\n",
      "Epoch 17, CIFAR-10 Batch 1:  [Validation] - Loss: 1.2306416034698486, Accuracy: 0.6671999096870422\n",
      "Epoch 17, CIFAR-10 Batch 2:  [Validation] - Loss: 1.2130154371261597, Accuracy: 0.6709998846054077\n",
      "Epoch 17, CIFAR-10 Batch 3:  [Validation] - Loss: 1.2082784175872803, Accuracy: 0.6653999090194702\n",
      "Epoch 17, CIFAR-10 Batch 4:  [Validation] - Loss: 1.2589051723480225, Accuracy: 0.666999876499176\n",
      "Epoch 17, CIFAR-10 Batch 5:  [Validation] - Loss: 1.2670174837112427, Accuracy: 0.6639998555183411\n",
      "Epoch 18, CIFAR-10 Batch 1:  [Validation] - Loss: 1.289247751235962, Accuracy: 0.6741998791694641\n",
      "Epoch 18, CIFAR-10 Batch 2:  [Validation] - Loss: 1.3358840942382812, Accuracy: 0.6627999544143677\n",
      "Epoch 18, CIFAR-10 Batch 3:  [Validation] - Loss: 1.3799033164978027, Accuracy: 0.6497998833656311\n",
      "Epoch 18, CIFAR-10 Batch 4:  [Validation] - Loss: 1.3367575407028198, Accuracy: 0.653999924659729\n",
      "Epoch 18, CIFAR-10 Batch 5:  [Validation] - Loss: 1.3145675659179688, Accuracy: 0.6645998954772949\n",
      "Epoch 19, CIFAR-10 Batch 1:  [Validation] - Loss: 1.2599096298217773, Accuracy: 0.6785998940467834\n",
      "Epoch 19, CIFAR-10 Batch 2:  [Validation] - Loss: 1.3227497339248657, Accuracy: 0.6725999116897583\n",
      "Epoch 19, CIFAR-10 Batch 3:  [Validation] - Loss: 1.4338204860687256, Accuracy: 0.6417998671531677\n",
      "Epoch 19, CIFAR-10 Batch 4:  [Validation] - Loss: 1.3283230066299438, Accuracy: 0.6611998081207275\n",
      "Epoch 19, CIFAR-10 Batch 5:  [Validation] - Loss: 1.3719624280929565, Accuracy: 0.6623998880386353\n",
      "Epoch 20, CIFAR-10 Batch 1:  [Validation] - Loss: 1.2927888631820679, Accuracy: 0.6801998019218445\n",
      "Epoch 20, CIFAR-10 Batch 2:  [Validation] - Loss: 1.3680235147476196, Accuracy: 0.6631999015808105\n",
      "Epoch 20, CIFAR-10 Batch 3:  [Validation] - Loss: 1.7291010618209839, Accuracy: 0.6171998977661133\n",
      "Epoch 20, CIFAR-10 Batch 4:  [Validation] - Loss: 1.5245771408081055, Accuracy: 0.6441999077796936\n",
      "Epoch 20, CIFAR-10 Batch 5:  [Validation] - Loss: 1.4951130151748657, Accuracy: 0.6579998731613159\n"
     ]
    }
   ],
   "source": [
    "\"\"\"\n",
    "DON'T MODIFY ANYTHING IN THIS CELL\n",
    "\"\"\"\n",
    "save_model_path = './image_classification'\n",
    "\n",
    "print('Training...')\n",
    "with tf.Session() as sess:\n",
    "    # Initializing the variables\n",
    "    sess.run(tf.global_variables_initializer())\n",
    "    \n",
    "    # Training cycle\n",
    "    for epoch in range(epochs):\n",
    "        # Loop over all batches\n",
    "        n_batches = 5\n",
    "        for batch_i in range(1, n_batches + 1):\n",
    "            for batch_features, batch_labels in helper.load_preprocess_training_batch(batch_i, batch_size):\n",
    "                train_neural_network(sess, optimizer, keep_probability, batch_features, batch_labels)\n",
    "            print('Epoch {:>2}, CIFAR-10 Batch {}:  '.format(epoch + 1, batch_i), end='')\n",
    "            print_stats(sess, batch_features, batch_labels, cost, accuracy)\n",
    "            \n",
    "    # Save Model\n",
    "    saver = tf.train.Saver()\n",
    "    save_path = saver.save(sess, save_model_path)"
   ]
  },
  {
   "cell_type": "markdown",
   "metadata": {
    "deletable": true,
    "editable": true
   },
   "source": [
    "# Checkpoint\n",
    "The model has been saved to disk.\n",
    "## Test Model\n",
    "Test your model against the test dataset.  This will be your final accuracy. You should have an accuracy greater than 50%. If you don't, keep tweaking the model architecture and parameters."
   ]
  },
  {
   "cell_type": "code",
   "execution_count": 30,
   "metadata": {
    "collapsed": false,
    "deletable": true,
    "editable": true
   },
   "outputs": [
    {
     "name": "stdout",
     "output_type": "stream",
     "text": [
      "Testing Accuracy: 0.6525909810126582\n",
      "\n"
     ]
    },
    {
     "data": {
      "image/png": "[encoded data removed]",
      "text/plain": [
       "<matplotlib.figure.Figure at 0x7f3a5a132f28>"
      ]
     },
     "metadata": {
      "image/png": {
       "height": 319,
       "width": 355
      }
     },
     "output_type": "display_data"
    }
   ],
   "source": [
    "\"\"\"\n",
    "DON'T MODIFY ANYTHING IN THIS CELL\n",
    "\"\"\"\n",
    "%matplotlib inline\n",
    "%config InlineBackend.figure_format = 'retina'\n",
    "\n",
    "import tensorflow as tf\n",
    "import pickle\n",
    "import helper\n",
    "import random\n",
    "\n",
    "# Set batch size if not already set\n",
    "try:\n",
    "    if batch_size:\n",
    "        pass\n",
    "except NameError:\n",
    "    batch_size = 64\n",
    "\n",
    "save_model_path = './image_classification'\n",
    "n_samples = 4\n",
    "top_n_predictions = 3\n",
    "\n",
    "def test_model():\n",
    "    \"\"\"\n",
    "    Test the saved model against the test dataset\n",
    "    \"\"\"\n",
    "\n",
    "    test_features, test_labels = pickle.load(open('preprocess_training.p', mode='rb'))\n",
    "    loaded_graph = tf.Graph()\n",
    "\n",
    "    with tf.Session(graph=loaded_graph) as sess:\n",
    "        # Load model\n",
    "        loader = tf.train.import_meta_graph(save_model_path + '.meta')\n",
    "        loader.restore(sess, save_model_path)\n",
    "\n",
    "        # Get Tensors from loaded model\n",
    "        loaded_x = loaded_graph.get_tensor_by_name('x:0')\n",
    "        loaded_y = loaded_graph.get_tensor_by_name('y:0')\n",
    "        loaded_keep_prob = loaded_graph.get_tensor_by_name('keep_prob:0')\n",
    "        loaded_logits = loaded_graph.get_tensor_by_name('logits:0')\n",
    "        loaded_acc = loaded_graph.get_tensor_by_name('accuracy:0')\n",
    "        \n",
    "        # Get accuracy in batches for memory limitations\n",
    "        test_batch_acc_total = 0\n",
    "        test_batch_count = 0\n",
    "        \n",
    "        for train_feature_batch, train_label_batch in helper.batch_features_labels(test_features, test_labels, batch_size):\n",
    "            test_batch_acc_total += sess.run(\n",
    "                loaded_acc,\n",
    "                feed_dict={loaded_x: train_feature_batch, loaded_y: train_label_batch, loaded_keep_prob: 1.0})\n",
    "            test_batch_count += 1\n",
    "\n",
    "        print('Testing Accuracy: {}\\n'.format(test_batch_acc_total/test_batch_count))\n",
    "\n",
    "        # Print Random Samples\n",
    "        random_test_features, random_test_labels = tuple(zip(*random.sample(list(zip(test_features, test_labels)), n_samples)))\n",
    "        random_test_predictions = sess.run(\n",
    "            tf.nn.top_k(tf.nn.softmax(loaded_logits), top_n_predictions),\n",
    "            feed_dict={loaded_x: random_test_features, loaded_y: random_test_labels, loaded_keep_prob: 1.0})\n",
    "        helper.display_image_predictions(random_test_features, random_test_labels, random_test_predictions)\n",
    "\n",
    "\n",
    "test_model()"
   ]
  },
  {
   "cell_type": "markdown",
   "metadata": {
    "deletable": true,
    "editable": true
   },
   "source": [
    "## Why 50-70% Accuracy?\n",
    "You might be wondering why you can't get an accuracy any higher. First things first, 50% isn't bad for a simple CNN.  Pure guessing would get you 10% accuracy. However, you might notice people are getting scores [well above 70%](http://rodrigob.github.io/are_we_there_yet/build/classification_datasets_results.html#43494641522d3130).  That's because we haven't taught you all there is to know about neural networks. We still need to cover a few more techniques.\n",
    "## Submitting This Project\n",
    "When submitting this project, make sure to run all the cells before saving the notebook.  Save the notebook file as \"dlnd_image_classification.ipynb\" and save it as a HTML file under \"File\" -> \"Download as\".  Include the \"helper.py\" and \"problem_unittests.py\" files in your submission."
   ]
  }
 ],
 "metadata": {
  "kernelspec": {
   "display_name": "Python 3",
   "language": "python",
   "name": "python3"
  },
  "language_info": {
   "codemirror_mode": {
    "name": "ipython",
    "version": 3
   },
   "file_extension": ".py",
   "mimetype": "text/x-python",
   "name": "python",
   "nbconvert_exporter": "python",
   "pygments_lexer": "ipython3",
   "version": "3.5.2"
  },
  "widgets": {
   "state": {},
   "version": "1.1.2"
  }
 },
 "nbformat": 4,
 "nbformat_minor": 0
}
